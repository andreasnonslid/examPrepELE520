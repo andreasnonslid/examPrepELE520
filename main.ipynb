{
 "cells": [
  {
   "cell_type": "code",
   "execution_count": 1,
   "metadata": {},
   "outputs": [],
   "source": [
    "import numpy as np\n",
    "import matplotlib.pyplot as plt\n",
    "import sympy as sym\n",
    "# qt\n",
    "%matplotlib inline"
   ]
  },
  {
   "cell_type": "markdown",
   "metadata": {},
   "source": [
    "# Linear algebra"
   ]
  },
  {
   "cell_type": "markdown",
   "metadata": {},
   "source": [
    "## Euclidean distance basic calculation"
   ]
  },
  {
   "cell_type": "code",
   "execution_count": 2,
   "metadata": {},
   "outputs": [
    {
     "data": {
      "text/latex": [
       "$\\displaystyle \\sqrt{\\left(a_{1} - b_{1}\\right)^{2} + \\left(a_{2} - b_{2}\\right)^{2}}$"
      ],
      "text/plain": [
       "sqrt((a_1 - b_1)**2 + (a_2 - b_2)**2)"
      ]
     },
     "execution_count": 2,
     "metadata": {},
     "output_type": "execute_result"
    }
   ],
   "source": [
    "a1, a2, b1, b2 = sym.symbols('a_1, a_2, b_1, b_2,')\n",
    "a = sym.Matrix([a1,a2])\n",
    "b = sym.Matrix([b1,b2])\n",
    "Euclidean_distance = sym.sqrt(sym.DotProduct(a-b,a-b)).doit()\n",
    "Euclidean_distance"
   ]
  },
  {
   "cell_type": "markdown",
   "metadata": {},
   "source": [
    "# Statistics"
   ]
  },
  {
   "cell_type": "markdown",
   "metadata": {},
   "source": [
    "## Normal distribution in 3D (Bivariate case)"
   ]
  },
  {
   "cell_type": "code",
   "execution_count": 3,
   "metadata": {},
   "outputs": [],
   "source": [
    "def norm3D(x, y, mean, sigma):\n",
    "    ret = np.zeros([len(x), len(y)])\n",
    "    for iCount, i in enumerate(x):\n",
    "        for jCount, j in enumerate(y):\n",
    "            X = np.array([[i], [j]])\n",
    "            ret[iCount, jCount] = np.exp(-(1/2)*np.dot(np.transpose(X-mean),\n",
    "                                                       np.dot(np.linalg.inv(sigma), (X-mean))))\n",
    "    return ret / np.sqrt(((2*np.pi)**2)*np.linalg.det(sigma))"
   ]
  },
  {
   "cell_type": "markdown",
   "metadata": {},
   "source": [
    "# Basic plotting"
   ]
  },
  {
   "cell_type": "markdown",
   "metadata": {},
   "source": [
    "## Bar plot in 3D (Mainly for Parzen)"
   ]
  },
  {
   "cell_type": "code",
   "execution_count": 4,
   "metadata": {},
   "outputs": [],
   "source": [
    "def barPlot3D(x,y,p,h_n):\n",
    "    fig = plt.figure()\n",
    "    ax = fig.add_subplot(projection='3d')\n",
    "    X, Y = np.meshgrid(x,y)\n",
    "    x = X.reshape(-1)\n",
    "    y = Y.reshape(-1)\n",
    "    p = p.reshape(-1)\n",
    "    ax.bar3d(x,y,np.zeros_like(p),h_n*np.ones_like(p),h_n*np.ones_like(p),p)\n",
    "    plt.show()"
   ]
  },
  {
   "cell_type": "markdown",
   "metadata": {},
   "source": [
    "## Surface plot in 3D"
   ]
  },
  {
   "cell_type": "markdown",
   "metadata": {},
   "source": [
    "### Singular"
   ]
  },
  {
   "cell_type": "code",
   "execution_count": 5,
   "metadata": {},
   "outputs": [],
   "source": [
    "def plotSurf3D(x,y,p):\n",
    "    fig = plt.figure()\n",
    "    ax = fig.add_subplot(projection='3d')\n",
    "    X, Y = np.meshgrid(x,y)\n",
    "    ax.plot_surface(X,Y,p)\n",
    "    ax.view_init(elev=15,azim=50)\n",
    "    plt.show()"
   ]
  },
  {
   "cell_type": "markdown",
   "metadata": {},
   "source": [
    "### Multiple"
   ]
  },
  {
   "cell_type": "code",
   "execution_count": 6,
   "metadata": {},
   "outputs": [],
   "source": [
    "def plotMultipleSurf3D(x,y,p,colors=None):\n",
    "    fig = plt.figure()\n",
    "    ax = fig.add_subplot(projection='3d')\n",
    "    X, Y = np.meshgrid(x,y)\n",
    "    if colors is None:\n",
    "        for z in p:\n",
    "            ax.plot_surface(X,Y,z,alpha=0.8)\n",
    "            ax.view_init(elev=15,azim=50)\n",
    "    else:\n",
    "        for i, z in enumerate(p):\n",
    "            ax.plot_surface(X,Y,z,alpha=0.8,color=colors[i])\n",
    "            ax.view_init(elev=15,azim=50)\n",
    "    plt.show()"
   ]
  },
  {
   "cell_type": "markdown",
   "metadata": {},
   "source": [
    "# Bayes decision theory"
   ]
  },
  {
   "cell_type": "markdown",
   "metadata": {},
   "source": [
    "## Discriminant functions"
   ]
  },
  {
   "cell_type": "markdown",
   "metadata": {},
   "source": [
    "## Case I\n",
    "\n",
    "Given a diagonal covariance matrix:\n",
    "$$\\Sigma=\\sigma^2 I$$\n",
    "\n",
    "The discriminant function can be calculated as:\n",
    "\n",
    "$$g_i (x)=-\\frac{1}{2\\sigma^2}||x-\\mu_i||^2 + ln(P(\\omega_i))$$\n",
    "\n",
    "Furthermore, if the priors ($P(\\omega_i)$) are equal, it simplifies to:\n",
    "\n",
    "$$g_i (x)=-\\frac{1}{2\\sigma ^2}||x-\\mu_i||^2$$\n",
    "\n",
    "A Alternative representation is:\n",
    "\n",
    "$$g_i=\\theta_i^Tx + \\theta_{i0} $$\n",
    "\n",
    "With:\n",
    "\n",
    "$$\\theta_i = \\frac{1}{\\sigma^2}\\mu_i$$\n",
    "$$\\theta_{i0} = -\\frac{1}{2\\sigma^2}\\mu_i^T\\mu_i +ln(P(\\omega_i))$$"
   ]
  },
  {
   "cell_type": "code",
   "execution_count": 7,
   "metadata": {},
   "outputs": [
    {
     "data": {
      "text/latex": [
       "$\\displaystyle \\left[\\begin{matrix}\\frac{- \\left(\\mu_{1} - x_{1}\\right)^{2} - \\left(\\mu_{2} - x_{2}\\right)^{2}}{2 \\sigma^{2}}\\end{matrix}\\right]$"
      ],
      "text/plain": [
       "Matrix([[(-(\\mu_1 - x_1)**2 - (\\mu_2 - x_2)**2)/(2*\\sigma**2)]])"
      ]
     },
     "execution_count": 7,
     "metadata": {},
     "output_type": "execute_result"
    }
   ],
   "source": [
    "Pi = sym.symbols('P(\\omega_i)')\n",
    "\n",
    "x1, x2 = sym.symbols('x_1, x_2')\n",
    "sigma = sym.symbols('\\sigma')\n",
    "mu1, mu2 = sym.symbols('\\mu_1, \\mu_2')\n",
    "x = sym.Matrix([x1, x2])\n",
    "mu = sym.Matrix([mu1, mu2])\n",
    "\n",
    "# sigma = 1.5\n",
    "# mu = sym.Matrix([3,2])\n",
    "\n",
    "g = (-1/(2*(sigma**2)))*(sym.transpose(x-mu)*(x-mu)) + sym.Matrix([sym.log(Pi)])\n",
    "\n",
    "g = (-1/(2*(sigma**2)))*(sym.transpose(x-mu)*(x-mu))\n",
    "sym.simplify(g)\n"
   ]
  },
  {
   "cell_type": "markdown",
   "metadata": {},
   "source": [
    "## Case II\n",
    "\n",
    "Given a *symmetrical* $\\Sigma_i = \\Sigma$:\n",
    "$$\n",
    "\\Sigma=\n",
    "\\left(\\begin{array}{cc} \n",
    "\\sigma_{1} ^2 & . & \\sigma_{1,l}\\\\\n",
    ". & . & .\\\\\n",
    "\\sigma_{1,l} & . & \\sigma_{l} ^2\n",
    "\\end{array}\\right)\n",
    "$$ \n",
    "\n",
    "The discriminant function can be calculated as:\n",
    "\n",
    "$$g_i=\\frac{-1}{2}(x-\\mu)^T \\Sigma^{-1} (x-\\mu) + ln(P(\\omega_i))$$\n",
    "\n",
    "Furthermore, if the priors ($P(\\omega_i)$) are equal, it simplifies to:\n",
    "\n",
    "$$g_i=\\frac{-1}{2}(x-\\mu)^T \\Sigma^{-1} (x-\\mu)$$\n",
    "\n",
    "A Alternative representation is:\n",
    "\n",
    "$$g_i=\\theta_i^Tx + \\theta_{i0} $$\n",
    "\n",
    "With:\n",
    "\n",
    "$$\\theta_i = \\Sigma^{-1}\\mu_i$$\n",
    "$$\\theta_{i0} = -\\frac{1}{2}\\mu_i^T\\Sigma^{-1}\\mu_i+ln(P(\\omega_i))$$"
   ]
  },
  {
   "cell_type": "code",
   "execution_count": 8,
   "metadata": {},
   "outputs": [
    {
     "data": {
      "text/latex": [
       "$\\displaystyle \\left[\\begin{matrix}\\frac{0.5 \\left(\\left(\\mu_{1} - x_{1}\\right) \\left(\\sigma_{21} \\left(\\mu_{2} - x_{2}\\right) - \\sigma_{22} \\left(\\mu_{1} - x_{1}\\right)\\right) - \\left(\\mu_{2} - x_{2}\\right) \\left(\\sigma_{11} \\left(\\mu_{2} - x_{2}\\right) - \\sigma_{12} \\left(\\mu_{1} - x_{1}\\right)\\right)\\right)}{\\sigma_{11} \\sigma_{22} - \\sigma_{12} \\sigma_{21}}\\end{matrix}\\right]$"
      ],
      "text/plain": [
       "Matrix([[0.5*((\\mu_1 - x_1)*(\\sigma_21*(\\mu_2 - x_2) - \\sigma_22*(\\mu_1 - x_1)) - (\\mu_2 - x_2)*(\\sigma_11*(\\mu_2 - x_2) - \\sigma_12*(\\mu_1 - x_1)))/(\\sigma_11*\\sigma_22 - \\sigma_12*\\sigma_21)]])"
      ]
     },
     "execution_count": 8,
     "metadata": {},
     "output_type": "execute_result"
    }
   ],
   "source": [
    "Pi = sym.symbols('P(\\omega_i)')\n",
    "\n",
    "x1, x2 = sym.symbols('x_1, x_2')\n",
    "s11, s12, s21, s22 = sym.symbols('\\sigma_11, \\sigma_12, \\sigma_21, \\sigma_22')\n",
    "mu1, mu2 = sym.symbols('\\mu_1, \\mu_2')\n",
    "x = sym.Matrix([x1, x2])\n",
    "sigma = sym.Matrix([[s11,s12],[s21,s22]])\n",
    "mu = sym.Matrix([mu1, mu2])\n",
    "\n",
    "# sigma = sym.Matrix([[1,2],[3,4]])\n",
    "# mu = sym.Matrix([3,2])\n",
    "\n",
    "g = (-1/(2))*(sym.transpose(x-mu)* sigma**-1 *(x-mu)) + sym.Matrix([sym.log(Pi)])\n",
    "\n",
    "g = (-1/(2))*(sym.transpose(x-mu)* sigma**-1 *(x-mu))\n",
    "sym.simplify(g)\n"
   ]
  },
  {
   "cell_type": "markdown",
   "metadata": {},
   "source": [
    "## Case III\n",
    "\n",
    "Given a *arbitrary* $\\Sigma_i$ (Class dependent),\n",
    "\n",
    "The discriminant function can be calculated as:\n",
    "\n",
    "$$g_i=\\frac{-1}{2}(x-\\mu)^T \\Sigma_i ^{-1} (x-\\mu) - \\frac{1}{2}ln(|\\Sigma_i|) + ln(P(\\omega_i))$$\n",
    "\n",
    "Furthermore, if the priors ($P(\\omega_i)$) are equal, it simplifies to:\n",
    "\n",
    "$$g_i=\\frac{-1}{2}(x-\\mu)^T \\Sigma^{-1} (x-\\mu) - \\frac{1}{2}ln(|\\Sigma_i|)$$\n",
    "\n",
    "A Alternative representation is:\n",
    "\n",
    "$$g_i= x^T\\Theta_ix + \\theta_i^Tx + \\theta_{i0} $$\n",
    "\n",
    "With:\n",
    "\n",
    "$$\\Theta_i = -\\frac{1}{2}\\Sigma_i^{-1}$$\n",
    "$$\\theta_i = \\Sigma^{-1}\\mu_i$$\n",
    "$$\\theta_{i0} = -\\frac{1}{2}\\mu_i^T\\Sigma^{-1}\\mu_i- \\frac{1}{2}ln(|\\Sigma_i|) +ln(P(\\omega_i))$$"
   ]
  },
  {
   "cell_type": "code",
   "execution_count": 9,
   "metadata": {},
   "outputs": [
    {
     "data": {
      "text/latex": [
       "$\\displaystyle \\left[\\begin{matrix}\\frac{0.5 \\left(\\left(\\mu_{1} - x_{1}\\right) \\left(\\sigma_{21} \\left(\\mu_{2} - x_{2}\\right) - \\sigma_{22} \\left(\\mu_{1} - x_{1}\\right)\\right) - \\left(\\mu_{2} - x_{2}\\right) \\left(\\sigma_{11} \\left(\\mu_{2} - x_{2}\\right) - \\sigma_{12} \\left(\\mu_{1} - x_{1}\\right)\\right) - \\left(\\sigma_{11} \\sigma_{22} - \\sigma_{12} \\sigma_{21}\\right) \\log{\\left(\\sigma_{11} \\sigma_{22} - \\sigma_{12} \\sigma_{21} \\right)}\\right)}{\\sigma_{11} \\sigma_{22} - \\sigma_{12} \\sigma_{21}}\\end{matrix}\\right]$"
      ],
      "text/plain": [
       "Matrix([[0.5*((\\mu_1 - x_1)*(\\sigma_21*(\\mu_2 - x_2) - \\sigma_22*(\\mu_1 - x_1)) - (\\mu_2 - x_2)*(\\sigma_11*(\\mu_2 - x_2) - \\sigma_12*(\\mu_1 - x_1)) - (\\sigma_11*\\sigma_22 - \\sigma_12*\\sigma_21)*log(\\sigma_11*\\sigma_22 - \\sigma_12*\\sigma_21))/(\\sigma_11*\\sigma_22 - \\sigma_12*\\sigma_21)]])"
      ]
     },
     "execution_count": 9,
     "metadata": {},
     "output_type": "execute_result"
    }
   ],
   "source": [
    "Pi = sym.symbols('P(\\omega_i)')\n",
    "\n",
    "x1, x2 = sym.symbols('x_1, x_2')\n",
    "s11, s12, s21, s22 = sym.symbols('\\sigma_11, \\sigma_12, \\sigma_21, \\sigma_22')\n",
    "mu1, mu2 = sym.symbols('\\mu_1, \\mu_2')\n",
    "x = sym.Matrix([x1, x2])\n",
    "sigma = sym.Matrix([[s11,s12],[s21,s22]])\n",
    "mu = sym.Matrix([mu1, mu2])\n",
    "\n",
    "# sigma = sym.Matrix([[1,2],[3,4]])\n",
    "# mu = sym.Matrix([3,2])\n",
    "\n",
    "g = (-1/(2))*(sym.transpose(x-mu)* sigma**-1 *(x-mu)) - sym.Matrix([(1/2)*sym.log(sym.det(sigma))]) + sym.Matrix([sym.log(Pi)])\n",
    "\n",
    "g = (-1/(2))*(sym.transpose(x-mu)* sigma**-1 *(x-mu)) - sym.Matrix([(1/2)*sym.log(sym.det(sigma))])\n",
    "sym.simplify(g)\n",
    "\n"
   ]
  },
  {
   "cell_type": "markdown",
   "metadata": {},
   "source": [
    "## Testing with exam 2021 version A, task 1 g-i\n",
    "\n",
    "**Case II**"
   ]
  },
  {
   "cell_type": "code",
   "execution_count": 10,
   "metadata": {},
   "outputs": [],
   "source": [
    "sigma1 = sym.Matrix([[0.5,0],[0,0.5]])\n",
    "mu1 = sym.Matrix([-1.5,-1.5])\n",
    "P1 = 0.2\n",
    "\n",
    "sigma2 = sym.Matrix([[1,0],[0,0.5]])\n",
    "mu2 = sym.Matrix([1.5,1.5])\n",
    "P2 = 0.6\n",
    "\n",
    "sigma3 = sym.Matrix([[0.5,0],[0,0.5]])\n",
    "mu3 = sym.Matrix([0,0])\n",
    "P3 = 0.2\n",
    "\n",
    "g1 = (-1/(2))*(sym.transpose(x-mu1)* sigma1**-1 *(x-mu1)) + sym.Matrix([sym.log(P1)])\n",
    "g2 = (-1/(2))*(sym.transpose(x-mu2)* sigma2**-1 *(x-mu2)) + sym.Matrix([sym.log(P2)])\n",
    "g3 = (-1/(2))*(sym.transpose(x-mu3)* sigma3**-1 *(x-mu3)) + sym.Matrix([sym.log(P3)])\n",
    "# sym.expand(g1) # Verified, note: Constant wrong, probably due to rounding errors? -5.42 =|= -6.109...\n",
    "# sym.expand(g2) # Verified, note: Constant wrong, probably due to rounding errors? -3.54 =|= -3.886...\n",
    "# sym.expand(g3) # Verified, note: Constant wrong, probably due to rounding errors? -0.916 =|= -1.609..."
   ]
  },
  {
   "cell_type": "markdown",
   "metadata": {},
   "source": [
    "# Parameter estimation"
   ]
  },
  {
   "cell_type": "markdown",
   "metadata": {},
   "source": [
    "Assumptions:\n",
    "\n",
    "1. The samples in $\\chi_i$ have been independently drawn from $p(x|\\omega_i)$.\n",
    "2. $p(x|\\omega_i)$ has a known type of distribution with form defined by parameters in $\\Theta_i$.\n",
    "\n",
    "From this the distribution is denoted as:\n",
    "\n",
    "$$p(x|\\omega_i,\\Theta_i)$$\n",
    "\n",
    "For gaussian distributions $\\Theta_i$ then consists of elements from $\\mu_i$ and $\\Sigma_i$.\n",
    "\n",
    "The methodology is to estimate $\\Theta_i$ from provided data."
   ]
  },
  {
   "cell_type": "markdown",
   "metadata": {},
   "source": [
    "## Likelihood"
   ]
  },
  {
   "cell_type": "markdown",
   "metadata": {},
   "source": [
    "Likelihood of a dataset explained by a given $\\Theta_i$:\n",
    "\n",
    "$$p(\\chi_i,\\Theta_i)=\\prod_{k=1}^N p(x_n,\\Theta_i)$$\n",
    "\n",
    "Estimate the $\\Theta$ to obtain maximum likelihood, which is done by differentiating and setting equal to 0, solving for $\\Theta$.\n",
    "\n",
    "This is much easier when using log-likelihoods."
   ]
  },
  {
   "cell_type": "markdown",
   "metadata": {},
   "source": [
    "For a monovariable gaussian distribution:"
   ]
  },
  {
   "cell_type": "code",
   "execution_count": 11,
   "metadata": {},
   "outputs": [
    {
     "name": "stdout",
     "output_type": "stream",
     "text": [
      "\\mu is: 1.0\n",
      "\\sigma is: 0.6666666666666666\n"
     ]
    }
   ],
   "source": [
    "dataset = np.array([0,0,1,1,2,2])\n",
    "N       = len(dataset)\n",
    "mu      = 1/N * sum(dataset)\n",
    "sigma   = 1/N * sum((dataset-mu)**2)\n",
    "print(f'\\mu is: {mu}\\n\\sigma is: {sigma}')"
   ]
  },
  {
   "cell_type": "markdown",
   "metadata": {},
   "source": [
    "For a multivariate gaussian distribution:"
   ]
  },
  {
   "cell_type": "code",
   "execution_count": 12,
   "metadata": {},
   "outputs": [
    {
     "name": "stdout",
     "output_type": "stream",
     "text": [
      "\\mu_0 is: 1.0\n",
      "\\sigma_0^2 is: 0.6666666666666666\n",
      "\\mu_1 is: 2.0\n",
      "\\sigma_1^2 is: 2.6666666666666665\n",
      "\\mu_2 is: 0.2\n",
      "\\sigma_2^2 is: 0.026666666666666672\n"
     ]
    }
   ],
   "source": [
    "dataset = np.array([[0,0,1,1,2,2],[0,0,2,2,4,4],[0,0,.2,.2,.4,.4]])\n",
    "numClasses = len(dataset)\n",
    "dataLen = len(dataset[0])\n",
    "mu = np.zeros([numClasses,1])\n",
    "sigma = np.zeros([numClasses,1])\n",
    "for i, data in enumerate(dataset):\n",
    "    mu[i]      = 1/N * np.sum(data)\n",
    "    sigma[i]   = 1/N * np.dot(data-mu[i],(data-mu[i]))\n",
    "    print(f'\\mu_{i} is: {mu[i][0]}\\n\\sigma_{i}^2 is: {sigma[i][0]}')"
   ]
  },
  {
   "cell_type": "markdown",
   "metadata": {},
   "source": [
    "# Non-parametric estimation"
   ]
  },
  {
   "cell_type": "markdown",
   "metadata": {},
   "source": [
    "In contrast to parameter estimation, non-parametric estimation doesn't assume the form distribution to be known."
   ]
  },
  {
   "cell_type": "markdown",
   "metadata": {},
   "source": [
    "## Regional density"
   ]
  },
  {
   "cell_type": "markdown",
   "metadata": {},
   "source": [
    "Regional density is as the name suggests a method that calculate how densely packed a amount of datapoints are within a region, in comparison to the total number of datapoints.\n",
    "\n",
    "This then can be specified further into two approaches;\n",
    "1. Choosing a volume before calculating, which is the Parzen window technique.\n",
    "2. Choosing a number of elements per point before calculating, which is the K-nearest technique.\n",
    "\n",
    "The probability from these are calculated as:\n",
    "\n",
    "$$p(x) = \\frac{\\frac{k_n}{N}}{V_n}$$\n",
    "\n",
    "Where $k_n$ is the number of elements, and $V_n$ is the volume."
   ]
  },
  {
   "cell_type": "markdown",
   "metadata": {},
   "source": [
    "### Parzen window technique\n",
    "\n",
    "Typically the volume is set to:\n",
    "\n",
    "$$V_n=\\frac{1}{\\sqrt N}$$"
   ]
  },
  {
   "cell_type": "code",
   "execution_count": 13,
   "metadata": {},
   "outputs": [],
   "source": [
    "dataset = np.array([[[1,1],[2,2],[2,2],[1,2],[2,2]],\n",
    "                    [[2,3],[3,4],[2,2],[1,2],[2,2]],\n",
    "                    [[1,0],[3,2],[2,2],[1,2],[2,2]],\n",
    "                    [[1,3],[2,4],[2,2],[1,2],[2,2]]])\n",
    "numClasses = len(dataset)\n",
    "numDims = np.shape(dataset)[2]\n",
    "x = y = np.linspace(-2,5,50)\n",
    "p = np.zeros([numClasses,len(x),len(y)])\n",
    "h_n = np.zeros([numClasses,1])\n",
    "for i, data in enumerate(dataset):\n",
    "    N = len(data)\n",
    "    h_n[i] = 1/np.sqrt(N)\n",
    "    for p1, x1 in enumerate(x):\n",
    "        for p2, x2 in enumerate(y):\n",
    "            count = 0\n",
    "            for d in data:\n",
    "                if np.sqrt(np.dot((np.array([x1,x2])-d),(np.array([x1,x2])-d)))/h_n[i] <= 1/2:\n",
    "                    count += 1\n",
    "            p[i,p1,p2] = (count/N)/h_n[i]"
   ]
  },
  {
   "cell_type": "code",
   "execution_count": 14,
   "metadata": {},
   "outputs": [
    {
     "data": {
      "image/png": "[encoded data removed]",
      "text/plain": [
       "<Figure size 432x288 with 1 Axes>"
      ]
     },
     "metadata": {
      "needs_background": "light"
     },
     "output_type": "display_data"
    }
   ],
   "source": [
    "barPlot3D(x,y,p[0],h_n[0])"
   ]
  },
  {
   "cell_type": "code",
   "execution_count": 15,
   "metadata": {},
   "outputs": [
    {
     "data": {
      "image/png": "[encoded data removed]",
      "text/plain": [
       "<Figure size 432x288 with 1 Axes>"
      ]
     },
     "metadata": {
      "needs_background": "light"
     },
     "output_type": "display_data"
    }
   ],
   "source": [
    "barPlot3D(x,y,p[1],h_n[1])"
   ]
  },
  {
   "cell_type": "code",
   "execution_count": 16,
   "metadata": {},
   "outputs": [
    {
     "data": {
      "image/png": "[encoded data removed]",
      "text/plain": [
       "<Figure size 432x288 with 1 Axes>"
      ]
     },
     "metadata": {
      "needs_background": "light"
     },
     "output_type": "display_data"
    }
   ],
   "source": [
    "barPlot3D(x,y,p[2],h_n[2])"
   ]
  },
  {
   "cell_type": "code",
   "execution_count": 17,
   "metadata": {},
   "outputs": [
    {
     "data": {
      "image/png": "[encoded data removed]",
      "text/plain": [
       "<Figure size 432x288 with 1 Axes>"
      ]
     },
     "metadata": {
      "needs_background": "light"
     },
     "output_type": "display_data"
    }
   ],
   "source": [
    "barPlot3D(x,y,p[3],h_n[3])"
   ]
  },
  {
   "cell_type": "markdown",
   "metadata": {},
   "source": [
    "This also introduces sharp edges though, and is therefore not a very good PDF. Instead a good approximation is a gaussian distribution with the parameters:\n",
    "\n",
    "$$\\mu_i=x_i$$\n",
    "\n",
    "$$\\sigma_i=h_n^2$$"
   ]
  },
  {
   "cell_type": "code",
   "execution_count": 18,
   "metadata": {},
   "outputs": [],
   "source": [
    "dataset = np.array([[[1,1],[2,2],[2,2],[1,2],[2,2]],\n",
    "                    [[2,3],[3,4],[2,2],[1,2],[2,2]],\n",
    "                    [[1,0],[3,2],[2,2],[1,2],[2,2]],\n",
    "                    [[1,3],[2,4],[2,2],[1,2],[2,2]]])\n",
    "numClasses = len(dataset)\n",
    "numDims = np.shape(dataset)[2]\n",
    "x = y = np.linspace(-2,5,20)\n",
    "p = np.zeros([numClasses,len(x),len(y)])\n",
    "h_n = np.zeros([numClasses,1])\n",
    "for i, data in enumerate(dataset):\n",
    "    N = len(data)\n",
    "    h_n[i] = 1/np.sqrt(N)\n",
    "    for d in data:\n",
    "        d = d.reshape([2,1])\n",
    "        p[i,:,:] += norm3D(x,y,d,(h_n[i]**2)*np.eye(2))"
   ]
  },
  {
   "cell_type": "code",
   "execution_count": 19,
   "metadata": {},
   "outputs": [
    {
     "data": {
      "image/png": "[encoded data removed]",
      "text/plain": [
       "<Figure size 432x288 with 1 Axes>"
      ]
     },
     "metadata": {
      "needs_background": "light"
     },
     "output_type": "display_data"
    }
   ],
   "source": [
    "colors = ['g','r','b','c']\n",
    "plotMultipleSurf3D(x,y,p,colors=colors)"
   ]
  },
  {
   "cell_type": "markdown",
   "metadata": {},
   "source": [
    "### K-nearest technique\n",
    "\n",
    "Typically the number of elements per point is set to:\n",
    "\n",
    "$$k_n=\\sqrt N$$\n",
    "\n",
    "For the same reasons as for the Parzen technique, this technique is also better approximated with gaussian distributions with parameters:\n",
    "\n",
    "$$\\mu_i=x_i$$\n",
    "\n",
    "$$\\sigma_i=h_n^2$$"
   ]
  },
  {
   "cell_type": "markdown",
   "metadata": {},
   "source": [
    "Time required in minutes on my system given $x$ steps: \n",
    "$$x=50\\rightarrow18$$\n",
    "$$x=25\\rightarrow4$$\n",
    "$$x=10\\rightarrow0$$\n",
    "\n",
    "Time required exponentially increase, for own sanity, never run more than 50"
   ]
  },
  {
   "cell_type": "code",
   "execution_count": 20,
   "metadata": {},
   "outputs": [],
   "source": [
    "dataset = np.array([[[1,1],[2,2],[2,2],[1,2],[2,2]],\n",
    "                    [[2,3],[3,4],[2,2],[1,2],[2,2]],\n",
    "                    [[1,0],[3,2],[2,2],[1,2],[2,2]],\n",
    "                    [[1,3],[2,4],[2,2],[1,2],[2,2]]])\n",
    "numClasses = len(dataset)\n",
    "numDims = np.shape(dataset)[2]\n",
    "steps = 20\n",
    "x = y = np.linspace(-2,5,steps)\n",
    "p = np.zeros([numClasses,len(x),len(y)])\n",
    "k_n = 3\n",
    "for i, data in enumerate(dataset):\n",
    "    for x1 in x:\n",
    "        for x2 in y:\n",
    "            X = np.array([x1,x2]).reshape([2,1])\n",
    "            length = np.zeros(len(data))\n",
    "            for pNum, point in enumerate(data):\n",
    "                a = np.squeeze(np.asarray(point.reshape([2,1])))\n",
    "                b = np.squeeze(np.asarray(X))\n",
    "                length[pNum] = np.sqrt(np.abs(np.dot(a-b,a-b))) # Euclidean distance\n",
    "            length = np.sort(length)\n",
    "            h_n = length[k_n-1] # -1 for K-nearest -> indexNum\n",
    "            if h_n < steps/100:\n",
    "                h_n = steps/100\n",
    "            p[i,:,:] += norm3D(x,y,X,(np.pi*h_n**2)*np.eye(2))"
   ]
  },
  {
   "cell_type": "code",
   "execution_count": 21,
   "metadata": {},
   "outputs": [
    {
     "data": {
      "image/png": "[encoded data removed]",
      "text/plain": [
       "<Figure size 432x288 with 1 Axes>"
      ]
     },
     "metadata": {
      "needs_background": "light"
     },
     "output_type": "display_data"
    }
   ],
   "source": [
    "colors = ['g','r','b','c']\n",
    "plotMultipleSurf3D(x,y,p,colors=colors)"
   ]
  },
  {
   "cell_type": "markdown",
   "metadata": {},
   "source": [
    "# Linear discriminant functions"
   ]
  },
  {
   "cell_type": "markdown",
   "metadata": {},
   "source": [
    "## Linear regression"
   ]
  },
  {
   "cell_type": "markdown",
   "metadata": {},
   "source": [
    "Important note:\n",
    "\n",
    "Nonlinear problems can often be turned into linear ones.\n",
    "\n",
    "Example:\n",
    "\n",
    "$$y=f_\\theta(x)=\\theta_0+\\theta_1x+\\theta_2x^2$$\n",
    "\n",
    "Can become:\n",
    "\n",
    "$$y=f_\\theta(x)=\\theta_0+\\theta_1\\phi_1(x)+\\theta_2\\phi_2(x)$$\n",
    "\n",
    "Which is linear with respect to the components $\\phi(x)$:\n",
    "\n",
    "$$x\\rightarrow\\phi(x)=\n",
    "\\left[\\begin{array}{cc} \n",
    "x_1\\\\\n",
    "x_2\n",
    "\\end{array}\\right]$$\n",
    "\n",
    "Shorthand version of the above:\n",
    "\n",
    "$$y=\\theta^Tx+\\zeta=[\\theta^T,\\theta_0]\n",
    "\\left[\\begin{array}{cc} \n",
    "x\\\\\n",
    "1\n",
    "\\end{array}\\right]+\\zeta$$\n",
    "\n",
    "Different cost methods can be used to fit line for least cost, but in this course only LS is considered."
   ]
  },
  {
   "cell_type": "markdown",
   "metadata": {},
   "source": [
    "### Least squared (LS)"
   ]
  },
  {
   "cell_type": "markdown",
   "metadata": {},
   "source": [
    "$$L (y,f_\\theta (x))^2=(y-f_\\theta(x))^2$$"
   ]
  },
  {
   "cell_type": "markdown",
   "metadata": {},
   "source": [
    "#### Sidenote "
   ]
  },
  {
   "cell_type": "markdown",
   "metadata": {},
   "source": [
    "The frobenius norm (numpy.linalg.norm(ord=None/'fro')):\n",
    "\n",
    "$$||A||_F=[\\sum_{i,j} abs(a_{i,j})^2]^{1/2}$$"
   ]
  },
  {
   "cell_type": "markdown",
   "metadata": {},
   "source": [
    "#### $\\hat\\theta=$ argmin $J(\\theta)$"
   ]
  },
  {
   "cell_type": "markdown",
   "metadata": {},
   "source": [
    "The cost function for LS is:\n",
    "\n",
    "$$J(\\theta)=\\sum_{n=1}^N(y_n-\\theta^Tx_n)^2$$\n",
    "\n",
    "This is found by finding the derivative with respect to the weights:\n",
    "\n",
    "$$\\frac{\\partial J}{\\partial \\theta}$$\n",
    "\n",
    "$$(\\sum_{n=1}^Nx_nx_n^T)\\hat\\theta=\\sum_{n=1}^Nx_ny_n$$\n",
    "\n",
    "$$\\hat\\theta=(X^TX)^{-1}X^Ty$$\n",
    "\n",
    "Where X is a matrix:\n",
    "\n",
    "$$ X = \n",
    "\\left[\\begin{array}{cc} \n",
    "x_1^T\\\\\n",
    "x_2^T\\\\\n",
    ".\\\\\n",
    "x_n^T\n",
    "\\end{array}\\right]=\n",
    "\\left[\\begin{array}{cc} \n",
    "x_{11} & x_{12} & . & x_{1l} & 1\\\\\n",
    "x_{21} & x_{22} & . & x_{2l} & 1\\\\\n",
    ". & . & . & . & .\\\\\n",
    "x_{n1} & x_{n2} & . & x_{nl} & 1\n",
    "\\end{array}\\right]\n",
    "$$"
   ]
  },
  {
   "cell_type": "markdown",
   "metadata": {},
   "source": [
    "#### Least means squared (LMS) procedure"
   ]
  },
  {
   "cell_type": "markdown",
   "metadata": {},
   "source": [
    "##### Gradient descent\n"
   ]
  },
  {
   "cell_type": "markdown",
   "metadata": {},
   "source": [
    "For large matrix dimension cases, it can be computationally heavy to solve for parameters.\n",
    "\n",
    "An alternative then is gradient descent.It works by moving towards the minima using gradients.\n",
    "\n",
    "Given a update coefficient $\\mu$ (That may vary):\n",
    "\n",
    "Start with a estimate $\\theta^{(1)}$:\n",
    "$$\\theta^{(i+1)}=\\theta^{(i)}+\\mu_i \\Delta\\theta^{(1)}$$\n",
    "$$\\theta^{(i+1)}=\\theta^{(i)}-\\mu_i  \\nabla J(\\theta^{(1)})$$\n",
    "\n",
    "From LMS:\n",
    "\n",
    "$$J(\\theta)=\\sum_{n=1}^N(y_n-\\theta^Tx_n)^2$$\n",
    "$$\\nabla J(\\theta)=-2X^T(y-X\\theta)$$\n",
    "\n",
    "Simply dropping the $-2$ since it varies with the chosen $\\mu$ everything becomes:\n",
    "\n",
    "$$\\theta^{(i+1)}=\\theta^{(i)}+\\mu_i  X^T(y-X\\theta)$$\n",
    "\n",
    "Which becomes the update rule for this procedure for each datapoint $n$:\n",
    "\n",
    "$$\\theta^{(i+1)}=\\theta^{(i)}+\\mu_i  (y_n-\\theta_n x_n)x_n$$"
   ]
  },
  {
   "cell_type": "code",
   "execution_count": 22,
   "metadata": {},
   "outputs": [
    {
     "name": "stderr",
     "output_type": "stream",
     "text": [
      "C:\\Users\\Andreas\\AppData\\Local\\Temp\\ipykernel_21472\\2127259258.py:23: VisibleDeprecationWarning: Creating an ndarray from ragged nested sequences (which is a list-or-tuple of lists-or-tuples-or ndarrays with different lengths or shapes) is deprecated. If you meant to do this, you must specify 'dtype=object' when creating the ndarray.\n",
      "  x1 = np.array([datapoint[:-1],1])\n",
      "C:\\Users\\Andreas\\AppData\\Local\\Temp\\ipykernel_21472\\2127259258.py:44: VisibleDeprecationWarning: Creating an ndarray from ragged nested sequences (which is a list-or-tuple of lists-or-tuples-or ndarrays with different lengths or shapes) is deprecated. If you meant to do this, you must specify 'dtype=object' when creating the ndarray.\n",
      "  x1 = np.array([datapoint[:-1],1])\n",
      "C:\\Users\\Andreas\\AppData\\Local\\Temp\\ipykernel_21472\\2127259258.py:67: VisibleDeprecationWarning: Creating an ndarray from ragged nested sequences (which is a list-or-tuple of lists-or-tuples-or ndarrays with different lengths or shapes) is deprecated. If you meant to do this, you must specify 'dtype=object' when creating the ndarray.\n",
      "  x1 = np.array([datapoint[:-1],1])\n"
     ]
    },
    {
     "data": {
      "image/png": "[encoded data removed]",
      "text/plain": [
       "<Figure size 432x288 with 4 Axes>"
      ]
     },
     "metadata": {
      "needs_background": "light"
     },
     "output_type": "display_data"
    }
   ],
   "source": [
    "dataset = np.array([[0,0],[1,2],[2,4],[3,6]])\n",
    "N = len(dataset)\n",
    "criterion = 0.1\n",
    "mu = 0.1\n",
    "ø_0 = 1\n",
    "ø = np.ones_like(dataset[0][:-1])\n",
    "Ø = np.append(ø,ø_0)\n",
    "\n",
    "# Plot before\n",
    "x = np.linspace(-1,4,50)\n",
    "plt.figure()\n",
    "plt.subplot(2,2,1)\n",
    "plt.plot(x,Ø[:-1]*x+Ø[-1])\n",
    "plt.plot(dataset[:,0],dataset[:,1],'rx')\n",
    "plt.tick_params(left = False, right = False ,\n",
    "                labelbottom = False, bottom = False)\n",
    "plt.title('Initial')\n",
    "\n",
    "allPassed = False\n",
    "while not allPassed:\n",
    "    allPassed = True\n",
    "    for i, datapoint in enumerate(dataset):\n",
    "        x1 = np.array([datapoint[:-1],1])\n",
    "        x2 = datapoint[-1]\n",
    "        k = i % N\n",
    "        if np.dot(mu*((x2 - np.dot(Ø,x1))*x1),mu*((x2 - np.dot(Ø,x1))*x1)) > criterion:\n",
    "            Ø = Ø + mu*((x2 - np.dot(Ø,x1))*x1)\n",
    "            allPassed = False\n",
    "\n",
    "# Plot after\n",
    "plt.subplot(2,2,2)\n",
    "plt.plot(x,Ø[:-1]*x+Ø[-1])\n",
    "plt.plot(dataset[:,0],dataset[:,1],'rx')\n",
    "plt.tick_params(left = False, right = False ,\n",
    "                labelbottom = False, bottom = False)\n",
    "plt.title('Criterion = 0.1')\n",
    "\n",
    "criterion = 0.001\n",
    "\n",
    "allPassed = False\n",
    "while not allPassed:\n",
    "    allPassed = True\n",
    "    for i, datapoint in enumerate(dataset):\n",
    "        x1 = np.array([datapoint[:-1],1])\n",
    "        x2 = datapoint[-1]\n",
    "        k = i % N\n",
    "        if np.dot(mu*((x2 - np.dot(Ø,x1))*x1),mu*((x2 - np.dot(Ø,x1))*x1)) > criterion:\n",
    "            Ø = Ø + mu*((x2 - np.dot(Ø,x1))*x1)\n",
    "            allPassed = False\n",
    "\n",
    "# Plot after 2\n",
    "x = np.linspace(-1,4,50)\n",
    "plt.subplot(2,2,3)\n",
    "plt.plot(x,Ø[:-1]*x+Ø[-1])\n",
    "plt.plot(dataset[:,0],dataset[:,1],'rx')\n",
    "plt.tick_params(left = False, right = False ,\n",
    "                labelbottom = False, bottom = False)\n",
    "plt.title('Criterion = 0.001')\n",
    "\n",
    "criterion = 0.1\n",
    "mu = 0.5\n",
    "\n",
    "allPassed = False\n",
    "while not allPassed:\n",
    "    allPassed = True\n",
    "    for i, datapoint in enumerate(dataset):\n",
    "        x1 = np.array([datapoint[:-1],1])\n",
    "        x2 = datapoint[-1]\n",
    "        k = i % N\n",
    "        if np.dot(mu*((x2 - np.dot(Ø,x1))*x1),mu*((x2 - np.dot(Ø,x1))*x1)) > criterion:\n",
    "            Ø = Ø + mu*((x2 - np.dot(Ø,x1))*x1)\n",
    "            allPassed = False\n",
    "\n",
    "# Plot after 3\n",
    "x = np.linspace(-1,4,50)\n",
    "ax4 = plt.subplot(2,2,4)\n",
    "plt.plot(x,Ø[:-1]*x+Ø[-1])\n",
    "plt.plot(dataset[:,0],dataset[:,1],'rx')\n",
    "plt.tick_params(left = False, right = False ,\n",
    "                labelbottom = False, bottom = False)\n",
    "plt.title('Criterion=0.1,$\\mu$ = 0.5')\n",
    "plt.show()"
   ]
  },
  {
   "cell_type": "markdown",
   "metadata": {},
   "source": [
    "# Neural networks"
   ]
  },
  {
   "cell_type": "markdown",
   "metadata": {},
   "source": [
    "Neural networks are a network of nodes, where all previous layer nodes will be multiplied by a weight, summed and passed to a activasion function. Based on the activation function and the sum, the node then repeats the process by sending it's value to all nodes in the next layer etc. \n",
    "\n",
    "The inputs can be considered the first layer or zeroth layer, and the last layer can then be the output layer. \n",
    "\n",
    "One node from past nodes:\n",
    "\n",
    "$$z_{\\text{node}}^{\\text{layer}}$$\n",
    "$$\\theta_{\\text{to,from}}^{\\text{layer}}$$\n",
    "$$\\text{Activation function}=\\phi(\\cdot)$$\n",
    "$$z_{i}^{j}=\\phi\\left(\\sum_{n=0}^{N}z_{n}^{j-1}\\theta_{i,n}^{j}\\right)$$"
   ]
  },
  {
   "cell_type": "markdown",
   "metadata": {},
   "source": [
    "## Cost function"
   ]
  },
  {
   "cell_type": "markdown",
   "metadata": {},
   "source": [
    "The cost function for all weights $\\theta$ in the network is:\n",
    "$$\\text{Actual}=y$$\n",
    "$$\\text{Result}=\\phi$$\n",
    "$$J(\\theta)=\\frac{1}{2}\\sum_{k=1}^M(y_k-\\phi_k)^2$$"
   ]
  },
  {
   "cell_type": "markdown",
   "metadata": {},
   "source": [
    "## Backpropagation"
   ]
  },
  {
   "cell_type": "markdown",
   "metadata": {},
   "source": [
    "Backpropagation is based on gradient descent, thereby ensuring that a imposed change $\\Delta\\theta$ will be in the direction that reduces the error.\n",
    "\n",
    "It uses a hyperparameter that controls/is the learning rate.\n",
    "$$\\text{Hyper parameter}=\\mu$$\n",
    "\n",
    "Overall the change is:\n",
    "$$\\Delta\\theta=\\mu\\frac{\\partial J}{\\partial\\theta}$$\n",
    "\n",
    "In component form the change is:\n",
    "$$\\Delta\\theta_{pq}^r=-\\mu\\frac{\\partial J}{\\partial\\theta_{pq}^r}$$"
   ]
  },
  {
   "cell_type": "markdown",
   "metadata": {},
   "source": [
    "### Algorithms"
   ]
  },
  {
   "cell_type": "markdown",
   "metadata": {},
   "source": [
    "#### Stochastic"
   ]
  },
  {
   "cell_type": "markdown",
   "metadata": {},
   "source": [
    "Pseudocode:\n",
    "\n",
    "&emsp; do \n",
    "\n",
    "&emsp; &emsp; $x\\leftarrow$ randomly chosen values\n",
    "\n",
    "&emsp; &emsp; forward calculations\n",
    "\n",
    "&emsp; &emsp; backpropagation and update $\\theta$\n",
    "\n",
    "&emsp; while not $J(\\theta)<$ criterion\n",
    "\n",
    "&emsp; return $\\theta$"
   ]
  },
  {
   "cell_type": "markdown",
   "metadata": {},
   "source": [
    "#### Batch"
   ]
  },
  {
   "cell_type": "markdown",
   "metadata": {},
   "source": [
    "Pseudocode:\n",
    "\n",
    "&emsp; do \n",
    "\n",
    "&emsp; &emsp; do $m = m + 1$\n",
    "\n",
    "&emsp; &emsp; &emsp; $x^m\\leftarrow$ select pattern #m\n",
    "\n",
    "&emsp; &emsp; &emsp; forward calculations\n",
    "\n",
    "&emsp; &emsp; &emsp; backpropagation\n",
    "\n",
    "&emsp; &emsp; while $m<$ number of samples\n",
    "\n",
    "&emsp; &emsp; update $\\theta$\n",
    "\n",
    "&emsp; while not $J(\\theta)<$ criterion\n",
    "\n",
    "&emsp; return $\\theta$"
   ]
  },
  {
   "cell_type": "markdown",
   "metadata": {},
   "source": [
    "#### Online"
   ]
  },
  {
   "cell_type": "markdown",
   "metadata": {},
   "source": [
    "Pseudocode:\n",
    "\n",
    "&emsp; do \n",
    "\n",
    "&emsp; &emsp; $x^m\\leftarrow$ next pattern\n",
    "\n",
    "&emsp; &emsp; forward calculations\n",
    "\n",
    "&emsp; &emsp; backpropagation and update $\\theta$\n",
    "\n",
    "&emsp; while there are more patterns available\n",
    "\n",
    "&emsp; return $\\theta$"
   ]
  },
  {
   "cell_type": "markdown",
   "metadata": {},
   "source": [
    "### Practical use"
   ]
  },
  {
   "cell_type": "markdown",
   "metadata": {},
   "source": [
    "Methodology:\n",
    "\n",
    "Update weigths with training data.\n",
    "\n",
    "Choose best network based on test data performance.\n",
    "\n",
    "Report performance on an independent validation set."
   ]
  },
  {
   "cell_type": "markdown",
   "metadata": {},
   "source": [
    "#### Issues"
   ]
  },
  {
   "cell_type": "markdown",
   "metadata": {},
   "source": [
    "##### Convergence rate"
   ]
  },
  {
   "cell_type": "markdown",
   "metadata": {},
   "source": [
    "The convergence rate can be sped up in several ways.\n",
    "\n",
    "Gradient descent with momentum implements past updates into the new update with a momentum term.\n",
    "$$\\partial\\Delta\\theta_{i,j}^r(\\text{old})$$\n",
    "\n",
    "Iteration dependent step size changes the step size depending on whether the cost function increased or decreased the previous iteration."
   ]
  },
  {
   "cell_type": "markdown",
   "metadata": {},
   "source": [
    "##### Preprocessing the input features"
   ]
  },
  {
   "cell_type": "markdown",
   "metadata": {},
   "source": [
    "The advised methodology is to scale the input features to have a standard normal distribution:\n",
    "$$N(0,1)$$\n",
    "$$x_i'=\\frac{x_i-\\hat\\mu_i}{\\hat\\sigma_i}$$\n",
    "\n",
    "It is also advisable to have incorrelated features, which can be achieved through PCA."
   ]
  },
  {
   "cell_type": "markdown",
   "metadata": {},
   "source": [
    "##### Activation functions"
   ]
  },
  {
   "cell_type": "markdown",
   "metadata": {},
   "source": [
    "There are many to choose from, but there are some requirements;\n",
    "1. Continuous.\n",
    "2. Differentiable.\n",
    "3. Saturates/Bounded.\n",
    "4. Symmetric (Advisable).\n",
    "\n",
    "If we know distributions are gaussian, gaussian activation functions might be useful.\n",
    "\n",
    "The target values should be slightly smaller than the bounds of the activation function.\n",
    "\n",
    "Typically the targets are $\\pm1$ and $1/0$"
   ]
  },
  {
   "cell_type": "markdown",
   "metadata": {},
   "source": [
    "##### Why more layers?"
   ]
  },
  {
   "cell_type": "markdown",
   "metadata": {},
   "source": [
    "Historically more than 2 layers was avoided, but it turns out that one achieves more compact representation with more layers.\n",
    "\n",
    "This means there will be less parameters required in training the network, which improves generalisation perforamnce."
   ]
  },
  {
   "cell_type": "markdown",
   "metadata": {},
   "source": [
    "##### Choosing correct cost function"
   ]
  },
  {
   "cell_type": "markdown",
   "metadata": {},
   "source": [
    "#### Pruning"
   ]
  },
  {
   "cell_type": "markdown",
   "metadata": {},
   "source": [
    "# Clustering"
   ]
  },
  {
   "cell_type": "markdown",
   "metadata": {},
   "source": [
    "The primary components in clustering is the quantification of similarity within a cluster, and the quantification of quality of cluster partitionings.\n",
    "\n",
    "Therefore clustering is a two-task problem:\n",
    "\n",
    "1. Quantify similarity.\n",
    "2. Create criterion function."
   ]
  },
  {
   "cell_type": "markdown",
   "metadata": {},
   "source": [
    "## Similarity"
   ]
  },
  {
   "cell_type": "markdown",
   "metadata": {},
   "source": [
    "Similarity can be measured in terms of distance, but there are many ways to calculate distances.\n",
    "\n",
    "1. Minkowski distance $\\rightarrow$ https://en.wikipedia.org/wiki/Minkowski_distance.\n",
    "2. Manhattan distance $\\rightarrow$ https://en.wikipedia.org/wiki/Taxicab_geometry.\n",
    "\n",
    "If some dimensions are considered more important than others, scaling might be used.\n",
    "\n",
    "Another similarity measure is the normalized inner product:\n",
    "\n",
    "$$s(x^Tx)=\\frac{x^Tx'}{|x|\\cdot|x'|}$$\n",
    "\n",
    "In contrast to the distance metrics, this measure gives high values for more similarity."
   ]
  },
  {
   "cell_type": "markdown",
   "metadata": {},
   "source": [
    "## Criterion function for considering quality of partitionings"
   ]
  },
  {
   "cell_type": "markdown",
   "metadata": {},
   "source": [
    "### Sum of squared errors criterion"
   ]
  },
  {
   "cell_type": "markdown",
   "metadata": {},
   "source": [
    "$$N=\\text{Number of samples in } \\chi_i, i=0,1...M$$\n",
    "$$m_i=\\frac{1}{N}\\sum_{x\\in \\chi_i}x$$\n",
    "$$J=\\sum_{i=1}^M\\sum_{x\\in \\chi_i}||x-m_i||^2$$"
   ]
  },
  {
   "cell_type": "markdown",
   "metadata": {},
   "source": [
    "## Finding optimal partitioning"
   ]
  },
  {
   "cell_type": "markdown",
   "metadata": {},
   "source": [
    "### Iterative approach"
   ]
  },
  {
   "cell_type": "markdown",
   "metadata": {},
   "source": [
    "Start with a initial partitioning. \n",
    "\n",
    "Repeat until convergence:\n",
    "\n",
    "1. Find the criterion function $J$. \n",
    "2. Consider changing a sample to another cluster.\n",
    "3. Compare the criterion function of the considered partitioning to the current.\n",
    "4. If the criterion function is \"improved\", perform the change considered.\n",
    "\n",
    "The criterion function in this case will be a sum of multiple classes being correctly and incorrectly classified. The cost will be the number of missclassifications within each class summed toghether. Therefore a/the way of calculating the cost comparison is to simply compare the two classes's seperate change in cost functions $\\Delta J$. Depending on the sign of the cost sum, the change is a improvement or not.\n",
    "\n",
    "$$\\Delta J_{current} + \\Delta J_{\\text{considered}}<0\\rightarrow\\text{perform change}$$\n",
    "\n",
    "To reduce computation, only the absolutely required parts need to be calculated. They are the increase and decrease in the two cost functions compared. They have the same form and opposite sign.\n",
    "\n",
    "$$\\text{Current class is class }i$$\n",
    "$$\\text{Considered class is class }j$$\n",
    "$$\\text{Sample }m$$\n",
    "$$J_i'=J_i-||\\frac{N_i}{N_i+1}(x-m_i)||^2\\rightarrow\\Delta J_i=-||\\frac{N_i}{N_i+1}(x-m_i)||^2$$\n",
    "$$J_j'=J_j+||\\frac{N_j}{N_j+1}(x-m_j)||^2\\rightarrow\\Delta J_j=||\\frac{N_j}{N_j+1}(x-m_j)||^2$$\n",
    "\n",
    "In the multiclass scenario, this is done to all classes, to see which has the best change in cost. For this, it is only neccessary to compare the increase in cost among the classed considered, since the cost decrease of the current will be constant among all cost sums. The move that meets the requirement above, and is the smallest increase among all considered classes's costs is performed. "
   ]
  },
  {
   "cell_type": "markdown",
   "metadata": {},
   "source": [
    "### Parametric approach"
   ]
  },
  {
   "cell_type": "markdown",
   "metadata": {},
   "source": [
    "#### Maximum likelihood"
   ]
  },
  {
   "cell_type": "markdown",
   "metadata": {},
   "source": [
    "Given:\n",
    "\n",
    "$$\\text{Dataset}=\\chi=\n",
    "\\left[\\begin{array}{cc} \n",
    "x_1 \\\\ \n",
    "x_2 \\\\ \n",
    "... \\\\\n",
    " x_N\n",
    "\\end{array}\\right]$$\n",
    "The likelihood of observed examples:\n",
    "$$p(\\chi,\\theta)=\\prod_{k=1}^Np(x_k,\\theta)$$\n",
    "\n",
    "We try to find the most likely $\\theta$.\n",
    "\n",
    "Finding it is easier through the log-likelihood:\n",
    "\n",
    "$$=ln\\left(p\\left(\\chi|\\theta\\right)\\right)$$\n",
    "\n",
    "$$=\\sum_{k=1}^N\\left(p\\left(x_k|\\theta\\right)\\right)$$\n",
    "\n",
    "Differentiating, setting to zero and solving for $\\theta$:\n",
    "\n",
    "$$\\sum_{k=1}^NP\\left(\\omega_i|x_k,\\theta\\right)\\nabla_{\\theta_i}lnp\\left(x_k|\\omega_i,\\theta_i\\right)$$"
   ]
  },
  {
   "cell_type": "markdown",
   "metadata": {},
   "source": [
    "##### Application | case 1"
   ]
  },
  {
   "cell_type": "markdown",
   "metadata": {},
   "source": [
    "Unknown mean vectors $\\theta=\\mu$.\n",
    "\n",
    "$$\\hat\\mu_i=\\frac{\\sum_{k=1}^NP(\\omega_i|x_k,\\hat\\mu)x_k}{\\sum_{k=1}^NP(\\omega_i|x_k,\\hat\\mu)}$$\n",
    "\n",
    "Which is a weighted average, where the weight is the likelihood that $x_k$ belongs to the $i\\text{th}$ class."
   ]
  },
  {
   "cell_type": "markdown",
   "metadata": {},
   "source": [
    "##### Application | case 2"
   ]
  },
  {
   "cell_type": "markdown",
   "metadata": {},
   "source": [
    "All parameters are unknown, meaning $\\mu_i,\\Sigma_i$ and $P(\\omega_i)$ are unknown.\n",
    "\n",
    "Formulas to use iteratively:\n",
    "\n",
    "$$\\hat P\\left(\\omega_i\\right)=\\frac{1}{N}\\sum_{k=1}^NP\\left(\\omega_i|x_k,\\hat\\theta\\right)$$\n",
    "\n",
    "$$\\hat\\mu_i=\\frac{\\sum_{k=1}^N\\hat P(\\omega_i|x_k,\\hat\\mu)x_k}{\\sum_{k=1}^N\\hat P(\\omega_i|x_k,\\hat\\mu)}$$\n",
    "\n",
    "$$\\hat\\Sigma_i=\\frac{\\sum_{k=1}^N\\hat P\\left(\\omega_i|x_k,\\hat\\theta\\right)(x_k-\\hat\\mu_i)(x_k-\\hat\\mu)^T}{\\sum_{k=1}^N\\hat P\\left(\\omega_i|x_k,\\hat\\theta\\right)}$$"
   ]
  },
  {
   "cell_type": "markdown",
   "metadata": {},
   "source": [
    "# Evaluation of classifiers"
   ]
  },
  {
   "cell_type": "markdown",
   "metadata": {},
   "source": [
    "## Confusion matrix"
   ]
  },
  {
   "cell_type": "markdown",
   "metadata": {},
   "source": [
    "Evaluation of classifiers can come from the confusion matrix.\n",
    "\n",
    "The confusion matrix:\n",
    "$$M = \\text{total number of classes}$$\n",
    "$$i = \\text{true class}$$\n",
    "$$j = \\text{predicted class}$$\n",
    "$$A=\\left[\n",
    "\\begin{array}{cc}\n",
    "    A_{1,1} & . & A_{1,j} & . & A_{1,M} \\\\\n",
    "    .  & . & . & . & .\\\\\n",
    "    A_{i,1}  & . & A_{i,j} & . & A_{i,M}\\\\\n",
    "    .  & . & . & . & .\\\\\n",
    "    A_{M,1} & . & A_{M,j} & . & A_{M,M}\n",
    "\\end{array}\n",
    "\\right]$$\n",
    "\n",
    "The categories are;\n",
    "1. Recall ($R_i$), how many within a class that is correctly classified.\n",
    "2. Precision ($P_i$), how many classifications of a class that is correct.\n",
    "3. Overall accuracy ($A_{cc}$).\n",
    "\n",
    "These are more mathematically speaking defined as;\n",
    "1. $$R_i=\\frac{A\\left(i,i\\right)}{\\sum_{j=1}^MA\\left(i,j\\right)}\\rightarrow\\text{sum over column}=\\frac{A\\left(i,i\\right)}{N_i}$$\n",
    "2. $$P_i=\\frac{A\\left(i,i\\right)}{\\sum_{j=1}^MA\\left(j,i\\right)}\\rightarrow\\text{sum over row}$$\n",
    "3. $$A_{cc}=\\frac{\\sum_{i=1}^MA\\left(i,i\\right)}{\\sum A}$$\n",
    "\n",
    "Since the row is the true class, and the column is the prediction, summing over the columns means summing all of a true class, and vice versa for summing over the rows.\n",
    "\n",
    "$$\\text{Sum over columns of row i} = \\text{True total number of class i}$$\n",
    "$$\\text{Sum over rows of column j} = \\text{Predicted total number of class j}$$"
   ]
  },
  {
   "cell_type": "markdown",
   "metadata": {},
   "source": [
    "## Bias and variance"
   ]
  },
  {
   "cell_type": "markdown",
   "metadata": {},
   "source": [
    "Bias is the difference between the expected and the true value.\n",
    "\n",
    "Variance measures how much the estimates varies with data."
   ]
  },
  {
   "cell_type": "markdown",
   "metadata": {},
   "source": [
    "## Resampling"
   ]
  },
  {
   "cell_type": "markdown",
   "metadata": {},
   "source": [
    "### Jackknife method | Leave-one-out method"
   ]
  },
  {
   "cell_type": "markdown",
   "metadata": {},
   "source": [
    "Take one sample out of the dataset, and calculate the parameter estimates based on the remaining dataset. \n",
    "\n",
    "$$\\text{Leave-one-out estimate}=\\hat\\theta_{i}$$\n",
    "\n",
    "Repeat for all datapoints and find the mean of those:\n",
    "\n",
    "$$\\hat\\theta_{(\\cdot)}=\\frac{1}{N}\\sum_{i=1}^N\\hat\\theta_{(i)}$$\n",
    "\n",
    "And the variance:\n",
    "\n",
    "$$Var\\left[\\hat\\theta\\right]=\\frac{N-1}{N}\\sum_{i=1}^N\\left(\\hat\\theta_{(i)}-\\hat\\theta_{\\left(\\cdot\\right)}\\right)^2$$\n",
    "\n",
    "Then the bias is:\n",
    "\n",
    "$$\\text{Bias}_{\\text{Jackknife}}=\\left(N-1\\right)\\left(\\hat\\theta_{(\\cdot)}-\\hat\\theta\\right)$$"
   ]
  },
  {
   "cell_type": "markdown",
   "metadata": {},
   "source": [
    "## Cross validation"
   ]
  },
  {
   "cell_type": "markdown",
   "metadata": {},
   "source": [
    "Using a training and test set, estimating statistics (confusion matrix) on each iteration."
   ]
  },
  {
   "cell_type": "markdown",
   "metadata": {},
   "source": [
    "# Feature extraction"
   ]
  },
  {
   "cell_type": "markdown",
   "metadata": {},
   "source": [
    "## Dimensionality"
   ]
  },
  {
   "cell_type": "markdown",
   "metadata": {},
   "source": [
    "Two aspects to consider:\n",
    "\n",
    "1. Classification accuracy\n",
    "2. Computational complexity\n",
    "\n",
    "In theory more independent features reduces error, but in practice it flattens out and only adds computational complexity instead.\n",
    "\n",
    "In choosing feature vectors, there are several approaches:\n",
    "\n",
    "1. Bottom up approach, evaluating the feature vectors sequentially and choosing the best ones.\n",
    "2. Top down approach, evaluating all feature vectors and sequentially removing the ones that gives the best performance when removed.\n",
    "3. Backward forward, combination of the two above.\n",
    "4. Correlation based"
   ]
  },
  {
   "cell_type": "markdown",
   "metadata": {},
   "source": [
    "### Dimensionality reduction"
   ]
  },
  {
   "cell_type": "markdown",
   "metadata": {},
   "source": [
    "#### Principal component analysis (PCA)"
   ]
  },
  {
   "cell_type": "markdown",
   "metadata": {},
   "source": [
    "PCA transforms the feature space so we use principal axis as coordinate axis. This is somewhat like using a different pose in robotics / robot modeling.\n",
    "\n",
    "This transform decorrelates the features.\n",
    "\n",
    "Combine the features by including features, using the largest eigenvalues first, because they are the most expressive features.\n",
    "\n",
    "This method is not optimised for discrimination, but still often works well."
   ]
  },
  {
   "cell_type": "markdown",
   "metadata": {},
   "source": [
    "#### Fisher discriminant"
   ]
  },
  {
   "cell_type": "markdown",
   "metadata": {},
   "source": [
    "Transform data to lower the intraclass standard deviation, while maximizing the means."
   ]
  }
 ],
 "metadata": {
  "interpreter": {
   "hash": "1e40badb7bcb1e92d160f0b4bed5c17fe911a99e768c213b4c3307cd30d71202"
  },
  "kernelspec": {
   "display_name": "Python 3.10.1 64-bit",
   "language": "python",
   "name": "python3"
  },
  "language_info": {
   "codemirror_mode": {
    "name": "ipython",
    "version": 3
   },
   "file_extension": ".py",
   "mimetype": "text/x-python",
   "name": "python",
   "nbconvert_exporter": "python",
   "pygments_lexer": "ipython3",
   "version": "3.10.2"
  },
  "orig_nbformat": 4
 },
 "nbformat": 4,
 "nbformat_minor": 2
}
