{
 "cells": [
  {
   "cell_type": "code",
   "execution_count": 78,
   "metadata": {},
   "outputs": [],
   "source": [
    "import numpy as np\n",
    "import matplotlib.pyplot as plt\n",
    "import sympy as sym"
   ]
  },
  {
   "cell_type": "markdown",
   "metadata": {},
   "source": [
    "# Basic plotting"
   ]
  },
  {
   "cell_type": "markdown",
   "metadata": {},
   "source": [
    "@TODO"
   ]
  },
  {
   "cell_type": "markdown",
   "metadata": {},
   "source": [
    "# Discriminant functions"
   ]
  },
  {
   "cell_type": "markdown",
   "metadata": {},
   "source": [
    "## Case I\n",
    "\n",
    "Given a diagonal covariance matrix:\n",
    "$$\\Sigma=\\sigma^2 I$$\n",
    "\n",
    "The discriminant function can be calculated as:\n",
    "\n",
    "$$g_i (x)=-\\frac{1}{2\\sigma^2}||x-\\mu_i||^2 + ln(P(\\omega_i))$$\n",
    "\n",
    "Furthermore, if the priors ($P(\\omega_i)$) are equal, it simplifies to:\n",
    "\n",
    "$$g_i (x)=-\\frac{1}{2\\sigma ^2}||x-\\mu_i||^2$$"
   ]
  },
  {
   "cell_type": "code",
   "execution_count": 79,
   "metadata": {},
   "outputs": [
    {
     "data": {
      "image/png": "[encoded data removed]",
      "text/latex": [
       "$\\displaystyle \\left[\\begin{matrix}\\frac{- \\left(\\mu_{1} - x_{1}\\right)^{2} - \\left(\\mu_{2} - x_{2}\\right)^{2}}{2 \\sigma^{2}}\\end{matrix}\\right]$"
      ],
      "text/plain": [
       "⎡             2              2⎤\n",
       "⎢- (\\mu₁ - x₁)  - (\\mu₂ - x₂) ⎥\n",
       "⎢─────────────────────────────⎥\n",
       "⎢                  2          ⎥\n",
       "⎣          2⋅\\sigma           ⎦"
      ]
     },
     "execution_count": 79,
     "metadata": {},
     "output_type": "execute_result"
    }
   ],
   "source": [
    "Pi = sym.symbols('P(\\omega_i)')\n",
    "\n",
    "x1, x2 = sym.symbols('x_1, x_2')\n",
    "sigma = sym.symbols('\\sigma')\n",
    "mu1, mu2 = sym.symbols('\\mu_1, \\mu_2')\n",
    "x = sym.Matrix([x1, x2])\n",
    "mu = sym.Matrix([mu1, mu2])\n",
    "\n",
    "# sigma = 1.5\n",
    "# mu = sym.Matrix([3,2])\n",
    "\n",
    "g = (-1/(2*(sigma**2)))*(sym.transpose(x-mu)*(x-mu)) + sym.Matrix([sym.log(Pi)])\n",
    "\n",
    "g = (-1/(2*(sigma**2)))*(sym.transpose(x-mu)*(x-mu))\n",
    "sym.simplify(g)\n"
   ]
  },
  {
   "cell_type": "markdown",
   "metadata": {},
   "source": [
    "## Case II\n",
    "\n",
    "Given a *symmetrical* $\\Sigma_i = \\Sigma$:\n",
    "$$\n",
    "\\Sigma=\n",
    "\\left(\\begin{array}{cc} \n",
    "\\sigma_{1} ^2 & . & \\sigma_{1,l}\\\\\n",
    ". & . & .\\\\\n",
    "\\sigma_{1,l} & . & \\sigma_{l} ^2\n",
    "\\end{array}\\right)\n",
    "$$ \n",
    "\n",
    "The discriminant function can be calculated as:\n",
    "\n",
    "$$g_i=\\frac{-1}{2}(x-\\mu)^T \\Sigma^-1 (x-\\mu) + ln(P(\\omega_i))$$\n",
    "\n",
    "Furthermore, if the priors ($P(\\omega_i)$) are equal, it simplifies to:\n",
    "\n",
    "$$g_i=\\frac{-1}{2}(x-\\mu)^T \\Sigma^-1 (x-\\mu)$$"
   ]
  },
  {
   "cell_type": "code",
   "execution_count": 80,
   "metadata": {},
   "outputs": [
    {
     "data": {
      "image/png": "[encoded data removed]",
      "text/latex": [
       "$\\displaystyle \\left[\\begin{matrix}\\frac{0.5 \\left(\\left(\\mu_{1} - x_{1}\\right) \\left(\\sigma_{21} \\left(\\mu_{2} - x_{2}\\right) - \\sigma_{22} \\left(\\mu_{1} - x_{1}\\right)\\right) - \\left(\\mu_{2} - x_{2}\\right) \\left(\\sigma_{11} \\left(\\mu_{2} - x_{2}\\right) - \\sigma_{12} \\left(\\mu_{1} - x_{1}\\right)\\right)\\right)}{\\sigma_{11} \\sigma_{22} - \\sigma_{12} \\sigma_{21}}\\end{matrix}\\right]$"
      ],
      "text/plain": [
       "⎡0.5⋅((\\mu₁ - x₁)⋅(\\sigma₂₁⋅(\\mu₂ - x₂) - \\sigma₂₂⋅(\\mu₁ - x₁)) - (\\mu₂ - x₂)⋅\n",
       "⎢─────────────────────────────────────────────────────────────────────────────\n",
       "⎣                                           \\sigma₁₁⋅\\sigma₂₂ - \\sigma₁₂⋅\\sigm\n",
       "\n",
       "(\\sigma₁₁⋅(\\mu₂ - x₂) - \\sigma₁₂⋅(\\mu₁ - x₁)))⎤\n",
       "──────────────────────────────────────────────⎥\n",
       "a₂₁                                           ⎦"
      ]
     },
     "execution_count": 80,
     "metadata": {},
     "output_type": "execute_result"
    }
   ],
   "source": [
    "Pi = sym.symbols('P(\\omega_i)')\n",
    "\n",
    "x1, x2 = sym.symbols('x_1, x_2')\n",
    "s11, s12, s21, s22 = sym.symbols('\\sigma_11, \\sigma_12, \\sigma_21, \\sigma_22')\n",
    "mu1, mu2 = sym.symbols('\\mu_1, \\mu_2')\n",
    "x = sym.Matrix([x1, x2])\n",
    "sigma = sym.Matrix([[s11,s12],[s21,s22]])\n",
    "mu = sym.Matrix([mu1, mu2])\n",
    "\n",
    "# sigma = sym.Matrix([[1,2],[3,4]])\n",
    "# mu = sym.Matrix([3,2])\n",
    "\n",
    "g = (-1/(2))*(sym.transpose(x-mu)* sigma**-1 *(x-mu)) + sym.Matrix([sym.log(Pi)])\n",
    "\n",
    "g = (-1/(2))*(sym.transpose(x-mu)* sigma**-1 *(x-mu))\n",
    "sym.simplify(g)\n"
   ]
  },
  {
   "cell_type": "markdown",
   "metadata": {},
   "source": [
    "## Case III\n",
    "\n",
    "Given a *arbitrary* $\\Sigma_i$ (Class dependent),\n",
    "\n",
    "The discriminant function can be calculated as:\n",
    "\n",
    "$$g_i=\\frac{-1}{2}(x-\\mu)^T \\Sigma_i ^-1 (x-\\mu) - \\frac{1}{2}ln(|\\Sigma_i|) + ln(P(\\omega_i))$$\n",
    "\n",
    "Furthermore, if the priors ($P(\\omega_i)$) are equal, it simplifies to:\n",
    "\n",
    "$$g_i=\\frac{-1}{2}(x-\\mu)^T \\Sigma^-1 (x-\\mu) - \\frac{1}{2}ln(|\\Sigma_i|)$$"
   ]
  },
  {
   "cell_type": "code",
   "execution_count": 81,
   "metadata": {},
   "outputs": [
    {
     "data": {
      "image/png": "[encoded data removed]",
      "text/latex": [
       "$\\displaystyle \\left[\\begin{matrix}\\frac{0.5 \\left(\\left(\\mu_{1} - x_{1}\\right) \\left(\\sigma_{21} \\left(\\mu_{2} - x_{2}\\right) - \\sigma_{22} \\left(\\mu_{1} - x_{1}\\right)\\right) - \\left(\\mu_{2} - x_{2}\\right) \\left(\\sigma_{11} \\left(\\mu_{2} - x_{2}\\right) - \\sigma_{12} \\left(\\mu_{1} - x_{1}\\right)\\right) - \\left(\\sigma_{11} \\sigma_{22} - \\sigma_{12} \\sigma_{21}\\right) \\log{\\left(\\sigma_{11} \\sigma_{22} - \\sigma_{12} \\sigma_{21} \\right)}\\right)}{\\sigma_{11} \\sigma_{22} - \\sigma_{12} \\sigma_{21}}\\end{matrix}\\right]$"
      ],
      "text/plain": [
       "⎡0.5⋅((\\mu₁ - x₁)⋅(\\sigma₂₁⋅(\\mu₂ - x₂) - \\sigma₂₂⋅(\\mu₁ - x₁)) - (\\mu₂ - x₂)⋅\n",
       "⎢─────────────────────────────────────────────────────────────────────────────\n",
       "⎣                                                                             \n",
       "\n",
       "(\\sigma₁₁⋅(\\mu₂ - x₂) - \\sigma₁₂⋅(\\mu₁ - x₁)) - (\\sigma₁₁⋅\\sigma₂₂ - \\sigma₁₂⋅\n",
       "──────────────────────────────────────────────────────────────────────────────\n",
       "        \\sigma₁₁⋅\\sigma₂₂ - \\sigma₁₂⋅\\sigma₂₁                                 \n",
       "\n",
       "\\sigma₂₁)⋅log(\\sigma₁₁⋅\\sigma₂₂ - \\sigma₁₂⋅\\sigma₂₁))⎤\n",
       "─────────────────────────────────────────────────────⎥\n",
       "                                                     ⎦"
      ]
     },
     "execution_count": 81,
     "metadata": {},
     "output_type": "execute_result"
    }
   ],
   "source": [
    "Pi = sym.symbols('P(\\omega_i)')\n",
    "\n",
    "x1, x2 = sym.symbols('x_1, x_2')\n",
    "s11, s12, s21, s22 = sym.symbols('\\sigma_11, \\sigma_12, \\sigma_21, \\sigma_22')\n",
    "mu1, mu2 = sym.symbols('\\mu_1, \\mu_2')\n",
    "x = sym.Matrix([x1, x2])\n",
    "sigma = sym.Matrix([[s11,s12],[s21,s22]])\n",
    "mu = sym.Matrix([mu1, mu2])\n",
    "\n",
    "# sigma = sym.Matrix([[1,2],[3,4]])\n",
    "# mu = sym.Matrix([3,2])\n",
    "\n",
    "g = (-1/(2))*(sym.transpose(x-mu)* sigma**-1 *(x-mu)) - sym.Matrix([(1/2)*sym.log(sym.det(sigma))]) + sym.Matrix([sym.log(Pi)])\n",
    "\n",
    "g = (-1/(2))*(sym.transpose(x-mu)* sigma**-1 *(x-mu)) - sym.Matrix([(1/2)*sym.log(sym.det(sigma))])\n",
    "sym.simplify(g)\n",
    "\n"
   ]
  },
  {
   "cell_type": "markdown",
   "metadata": {},
   "source": [
    "## Testing with exam 2021 version A, task 1 g-i\n",
    "\n",
    "**Case II**"
   ]
  },
  {
   "cell_type": "code",
   "execution_count": 82,
   "metadata": {},
   "outputs": [],
   "source": [
    "sigma1 = sym.Matrix([[0.5,0],[0,0.5]])\n",
    "mu1 = sym.Matrix([-1.5,-1.5])\n",
    "P1 = 0.2\n",
    "\n",
    "sigma2 = sym.Matrix([[1,0],[0,0.5]])\n",
    "mu2 = sym.Matrix([1.5,1.5])\n",
    "P2 = 0.6\n",
    "\n",
    "sigma3 = sym.Matrix([[0.5,0],[0,0.5]])\n",
    "mu3 = sym.Matrix([0,0])\n",
    "P3 = 0.2\n",
    "\n",
    "g1 = (-1/(2))*(sym.transpose(x-mu1)* sigma1**-1 *(x-mu1)) + sym.Matrix([sym.log(P1)])\n",
    "g2 = (-1/(2))*(sym.transpose(x-mu2)* sigma2**-1 *(x-mu2)) + sym.Matrix([sym.log(P2)])\n",
    "g3 = (-1/(2))*(sym.transpose(x-mu3)* sigma3**-1 *(x-mu3)) + sym.Matrix([sym.log(P3)])\n",
    "#sym.expand(g1) # Verified, note: Constant wrong, probably due to rounding errors? -5.42 =|= -6.109...\n",
    "# sym.expand(g2) # Verified, note: Constant wrong, probably due to rounding errors? -3.54 =|= -3.886...\n",
    "# sym.expand(g3) # Verified, note: Constant wrong, probably due to rounding errors? -0.916 =|= -1.609..."
   ]
  },
  {
   "cell_type": "markdown",
   "metadata": {},
   "source": []
  },
  {
   "cell_type": "markdown",
   "metadata": {},
   "source": [
    "# Decision boundaries"
   ]
  },
  {
   "cell_type": "markdown",
   "metadata": {},
   "source": [
    "@TODO"
   ]
  }
 ],
 "metadata": {
  "interpreter": {
   "hash": "1e40badb7bcb1e92d160f0b4bed5c17fe911a99e768c213b4c3307cd30d71202"
  },
  "kernelspec": {
   "display_name": "Python 3.10.1 64-bit",
   "language": "python",
   "name": "python3"
  },
  "language_info": {
   "name": "python",
   "version": "3.10.1"
  },
  "orig_nbformat": 4
 },
 "nbformat": 4,
 "nbformat_minor": 2
}
